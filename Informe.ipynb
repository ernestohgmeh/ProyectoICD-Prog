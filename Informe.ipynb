{
 "cells": [
  {
   "cell_type": "markdown",
   "metadata": {},
   "source": [
    "#### La Habana, capital de nuestro país, cuenta con aproximadamente 2.1 millones de personas según la información brindada en el Anuario Estadístico del  2022; esta población se divide en 15 municipios, cada uno de estos con diferentes características, y surgió la duda de si a pesar de estas diferencias entre ellos un restaurante en el céntrico Vedado(perteneciente al municipio Plaza de la Revolución) podría llegar a tener los mismos precios que uno ubicado en el municipio de Guanabacoa.\n",
    "\n",
    "#### Así fue como comenzó la labor para responder esta interrogante dando inicio a la recopilación de datos, proceso extenuante y el más molesto de toda la tarea. Para obtener la información necesaria nos apoyamos en canales de Telegram como \"Menú Cuba\" o algunas de las muchas opciones que podemos encontrar con una sencilla búsqueda en Google. Pero para obtener las más recientes y exactas propuestas, se le dió vital importancia a visitar personalmente los restaurantes o bares de la capital o, como mìnimo, tratar de obtener dicha información de los dueños o trabajadores.\n",
    "\n",
    "#### Hubieron municipios que no supusieron ningún problema para hallar un número considerable de locales, en cambio, algunos otros fueron una tarea bastante complicada debido al remota ubicación del local. Esto se podrá visualizar mejor en la gráfica a continuación, junto con algunas de las bibliotecas usadas en la realización de este análisis.\n",
    "\n",
    " - Anuario Estadístico: https://www.onei.gob.cu/sites/default/files/publicaciones/2024-04/03-poblacion-aec-2022_0.pdf \n",
    " - Menu Cuba: https://t.me/menucuba"
   ]
  },
  {
   "cell_type": "code",
   "execution_count": null,
   "metadata": {},
   "outputs": [],
   "source": [
    "import sys\n",
    "import os\n",
    "sys.path.append(os.path.abspath('/home/ernesto/Proyectos/ProyectoCD-Prog/aux'))\n",
    "import asd\n",
    "\n",
    "univ = asd.Get_Fixed_Objets()\n",
    "len(univ)\n",
    "\n"
   ]
  },
  {
   "cell_type": "code",
   "execution_count": null,
   "metadata": {},
   "outputs": [],
   "source": [
    "import folium\n",
    "\n",
    "\n",
    "map = folium.Map(location = [23.09016184758467,-82.38173482772923],zoom_star = 3)\n",
    "for i in univ:\n",
    "    if not (type(i[\"location\"][\"GPS\"]) == None or i[\"location\"][\"GPS\"] == \"string/ latitud,longitud\"):\n",
    "        folium.Marker(location = i[\"location\"][\"GPS\"],popup = i[\"nameLocal\"]).add_to(map)\n",
    "map"
   ]
  },
  {
   "cell_type": "markdown",
   "metadata": {},
   "source": [
    "#### Existen muchos tipos de platos y bebidas pero para poder saber cual es el precio medio de una comida definimos que el consumo de una persona será el valor medio de un entrante, el valor medio de un plato fuerte, al igual que con un postre y 2 bebidas. Con estos valores podemos saber cual es el lugar más caro o mas barato para ir a comer, pero claro no es exactamente lo que queremos, nos interesa más saber que como se comportan estos precios en los municipios. Es importante recalcar que para calcular el valor medio de los platos se eliminan el 10% inferior y superior de una lista ordenada que los contiene para asi evitar ¨contaminar la muestra¨ "
   ]
  },
  {
   "cell_type": "code",
   "execution_count": null,
   "metadata": {},
   "outputs": [],
   "source": [
    "import matplotlib.pyplot as mplp\n",
    "\n",
    "promediado = asd.Promedio_municipio(univ)\n",
    "\n",
    "eje_x = []\n",
    "eje_y = []\n",
    "\n",
    "for element in promediado:\n",
    "    for key, value in element.items():\n",
    "        eje_x.append(key)\n",
    "        eje_y.append(value)\n",
    "        \n",
    "mplp.bar(eje_x, eje_y, color='#721121')\n",
    "mplp.xlabel(\"Municipios\")\n",
    "mplp.ylabel(\"Costo\")\n",
    "mplp.xticks(rotation=90, fontsize= 7)\n",
    "mplp.title(\"Gasto promedio por persona\")\n",
    "mplp.figtext(0.5, 0.001, \"Nota: Algunos precios se ven afectado por las guarniciones y ensaladas\", ha=\"right\", fontsize=8)"
   ]
  },
  {
   "cell_type": "markdown",
   "metadata": {},
   "source": [
    "#### Cuanto datos tenemos?"
   ]
  },
  {
   "cell_type": "code",
   "execution_count": null,
   "metadata": {},
   "outputs": [],
   "source": [
    "Cerro=0\n",
    "Diez=0\n",
    "Boyeros=0\n",
    "Playa=0\n",
    "plaza=0\n",
    "centro=0\n",
    "vieja=0\n",
    "guanabacoa=0\n",
    "arroyo=0\n",
    "cotorro=0\n",
    "lisa=0\n",
    "este=0\n",
    "san=0\n",
    "marianao=0\n",
    "regla=0\n",
    "\n",
    "for k in univ:\n",
    "    if k[\"municipality\"].lower() == \"cerro\": Cerro+=1\n",
    "    if k[\"municipality\"].lower() == \"centro habana\": centro+=1\n",
    "    if k[\"municipality\"].lower() == \"habana vieja\": vieja +=1\n",
    "    if k[\"municipality\"].lower() == \"plaza de la revolucion\":plaza+=1\n",
    "    if k[\"municipality\"].lower() == \"playa\": Playa+=1\n",
    "    if k[\"municipality\"].lower() == \"habana del este\":este+=1 \n",
    "    if k[\"municipality\"].lower() == \"guanabacoa\": guanabacoa+=1\n",
    "    if k[\"municipality\"].lower() == \"10 de octubre\": Diez+=1\n",
    "    if k[\"municipality\"].lower() == \"boyeros\": Boyeros+=1\n",
    "    if k[\"municipality\"].lower() == \"cotorro\": cotorro+=1\n",
    "    if k[\"municipality\"].lower() == \"arroyo naranjo\": arroyo+=1\n",
    "    if k[\"municipality\"].lower() == \"san miguel del padron\": san+=1\n",
    "    if k[\"municipality\"].lower() == \"marianao\": marianao+=1\n",
    "    if k[\"municipality\"].lower() == \"regla\": regla+=1\n",
    "    if k[\"municipality\"].lower() == \"la lisa\": lisa+=1\n",
    "    \n",
    "print(f\"En el Cerro tenemos {Cerro}\")\n",
    "print(f\"En Boyeros tenemos {Boyeros}\")\n",
    "print(f\"En Playa tenemos {Playa}\")\n",
    "print(f\"En Plaza tenemos {plaza}\")\n",
    "print(f\"En Centro Habana tenemos {centro}\")\n",
    "print(f\"En la Habana Vieja tenemos {vieja}\")\n",
    "print(f\"En Habana del Este tenemos {este}\")\n",
    "print(f\"En Guanabacoa tenemos {guanabacoa}\")\n",
    "print(f\"En 10/10 tenemos {Diez}\")\n",
    "print(f\"En el Cotorro tenemos {cotorro}\")\n",
    "print(f\"En Arroyo tenemos {arroyo}\")\n",
    "print(f\"En San Miguel del Padron tenemos {san}\")\n",
    "print(f\"En Marianao tenemos {marianao}\")\n",
    "print(f\"En Regla tenemos {regla}\")\n",
    "print(f\"En la Lisa tenemos {lisa}\")"
   ]
  },
  {
   "cell_type": "markdown",
   "metadata": {},
   "source": [
    "para el prox analisis vamos a ver en la habana del total de locales cuantos tienen facebook y/o instagram y tambien un numero de telefono\n",
    "\n",
    "y tambien despues uno sobre los servicio q ofrece los restaurante\n",
    "y para terminar, la proporcio de platos q son pollo, los q son del mar y los q son res"
   ]
  }
 ],
 "metadata": {
  "kernelspec": {
   "display_name": "Python 3",
   "language": "python",
   "name": "python3"
  },
  "language_info": {
   "codemirror_mode": {
    "name": "ipython",
    "version": 3
   },
   "file_extension": ".py",
   "mimetype": "text/x-python",
   "name": "python",
   "nbconvert_exporter": "python",
   "pygments_lexer": "ipython3",
   "version": "3.12.7"
  }
 },
 "nbformat": 4,
 "nbformat_minor": 2
}
