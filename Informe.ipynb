{
 "cells": [
  {
   "cell_type": "markdown",
   "metadata": {},
   "source": [
    "#### La Habana, capital de nuestro país, cuenta con aproximadamente 2.1 millones de personas según la información brindada en el Anuario Estadístico del  2022; esta población se divide en 15 municipios, cada uno de estos con diferentes características, y surgió la duda de si a pesar de estas diferencias entre ellos un restaurante en el céntrico Vedado(perteneciente al municipio Plaza de la Revolución) podría llegar a tener los mismos precios que uno ubicado en el municipio de Guanabacoa.\n",
    "\n",
    "#### Así fue como comenzó la labor para responder esta interrogante dando inicio a la recopilación de datos, proceso extenuante y el más molesto de toda la tarea. Para obtener la información necesaria nos apoyamos en canales de Telegram como \"Menú Cuba\" o algunas de las muchas opciones que podemos encontrar con una sencilla búsqueda en Google. Pero para obtener las más recientes y exactas propuestas, se le dió vital importancia a visitar personalmente los restaurantes o bares de la capital o, como mìnimo, tratar de obtener dicha información de los dueños o trabajadores.\n",
    "\n",
    "#### Hubieron municipios que no supusieron ningún problema para hallar un número considerable de locales, en cambio, algunos otros fueron una tarea bastante complicada debido al remota ubicación del local. Esto se podrá visualizar mejor en la gráfica a continuación, junto con algunas de las bibliotecas usadas en la realización de este análisis.\n",
    "\n",
    " - Anuario Estadístico: https://www.onei.gob.cu/sites/default/files/publicaciones/2024-04/03-poblacion-aec-2022_0.pdf \n",
    " - Menu Cuba: https://t.me/menucuba"
   ]
  },
  {
   "cell_type": "code",
   "execution_count": null,
   "metadata": {},
   "outputs": [],
   "source": [
    "import sys\n",
    "import os\n",
    "sys.path.append(os.path.abspath('/home/ernesto/Proyectos/ProyectoCD-Prog/aux'))\n",
    "import asd\n",
    "\n",
    "univ = asd.Get_Fixed_Objets()\n",
    "len(univ)\n",
    "\n"
   ]
  },
  {
   "cell_type": "code",
   "execution_count": null,
   "metadata": {},
   "outputs": [],
   "source": [
    "import folium\n",
    "\n",
    "\n",
    "map = folium.Map(location = [23.09016184758467,-82.38173482772923],zoom_star = 3)\n",
    "for i in univ:\n",
    "    if not (type(i[\"location\"][\"GPS\"]) == None or i[\"location\"][\"GPS\"] == \"string/ latitud,longitud\"):\n",
    "        folium.Marker(location = i[\"location\"][\"GPS\"],popup = i[\"nameLocal\"]).add_to(map)\n",
    "map"
   ]
  },
  {
   "cell_type": "markdown",
   "metadata": {},
   "source": [
    "#### Existen muchos tipos de platos y bebidas pero para poder saber cual es el precio medio de una comida definimos que el consumo de una persona será el valor medio de un entrante, el valor medio de un plato fuerte, al igual que con un postre y 2 bebidas. Con estos valores podemos saber cual es el lugar más caro o mas barato para ir a comer, pero claro no es exactamente lo que queremos, nos interesa más saber que como se comportan estos precios en los municipios. Es importante recalcar que para calcular el valor medio de los platos se eliminan el 10% inferior y superior de una lista ordenada que los contiene para asi evitar ¨contaminar la muestra¨ "
   ]
  },
  {
   "cell_type": "code",
   "execution_count": null,
   "metadata": {},
   "outputs": [],
   "source": [
    "import matplotlib.pyplot as mplp\n",
    "\n",
    "promediado = asd.Promedio_municipio(univ)\n",
    "\n",
    "eje_x = []\n",
    "eje_y = []\n",
    "\n",
    "for element in promediado:\n",
    "    for key, value in element.items():\n",
    "        eje_x.append(key)\n",
    "        eje_y.append(value)\n",
    "        \n",
    "mplp.bar(eje_x, eje_y, color='#721121')\n",
    "mplp.xlabel(\"Municipios\")\n",
    "mplp.ylabel(\"Costo\")\n",
    "mplp.xticks(rotation=90, fontsize= 7)\n",
    "mplp.title(\"Gasto promedio por persona\")\n",
    "mplp.figtext(0.5, 0.001, \"Nota: Algunos precios se ven afectado por las guarniciones y ensaladas\", ha=\"right\", fontsize=8)\n",
    "mplp.show()"
   ]
  },
  {
   "cell_type": "markdown",
   "metadata": {},
   "source": [
    "#### La gráfica anterior podría ser una pequeña sorpresa si se le hiciera una encuesta a cualquier persona de la capital. No es de asombrar que los valores más altos sean los municipios de Playa y Habana Vieja, ambos con fuerte presencia del sector turistico donde hace décadas se pueden encontrar locales con las más finas y lujosas ofertas, pero resulta impactante el valor arrojado por el municipio de 10 de Octubre, una zona principalmente residencial alejada de los hoteles y las principales atracciones turisticas lo cual no cohibio a los centros de poner ofertas casi comparables con las ofertas de la Habana Vieja. Continuando con la lista seguiría Plaza de la Revolución y Centro Habana los cuales son grandemente transitados diariamente (solo el primer año de nuestra facutad al inicio superó las 200 personas) y esto fomenta la competencia en base a la necesidad-posibilidad de las personas contra la calidad-precio de su producto donde usualmente el precio es el valor de más peso en la ecuación"
   ]
  },
  {
   "cell_type": "markdown",
   "metadata": {},
   "source": [
    "##### El causante de este valor \"anormal\" en 10 de Octurbe podrían ser factores como la calidad de vida de los habitantes de lugar o la cantidad de alquileres particulares en la zona o simplemente un tipo de ofertas destinadas a grupos en vez de individuos. Cualquiera de los casos anteriores se aleja de nuestro objetivo por lo que no lo tendremos en cuenta. Para mayor exactitud se recomienda ampliar la muestra estudiada  "
   ]
  },
  {
   "cell_type": "markdown",
   "metadata": {},
   "source": [
    "### La próxima interrogante que vamos a tratar de responder surge de la necesidad de cada instalación de ganar fama y clientes. El tradicional método de hacer correr las noticias de boca en boca ha quedado casi obseleto en este ámbito por la influencia de las redes sociales. Estas ofrecen a sus usuarios una gran rapidez a la hora de hacer llegar la noticia y la comodidad de poderlo hacer desde cualquier lugar, ya sea desde su casa o su trabajo"
   ]
  },
  {
   "cell_type": "markdown",
   "metadata": {},
   "source": [
    "#### Para este análisis se buscaron las cuentas en plataformas como Facebook e Instagram; las más comunmentes utilizadas con estos fines, em la próxima fig. veremos su distribución por municipios:"
   ]
  },
  {
   "cell_type": "code",
   "execution_count": null,
   "metadata": {},
   "outputs": [],
   "source": [
    "import matplotlib.pyplot as plt\n",
    "import asd\n",
    "\n",
    "municipios = [\"Cerro\",\"Centro H.\",\"Habana V.\",\"Plaza\",\"Playa\",\"H. del Este\",\"Guanab.\",\"10/10\",\"Boyeros\",\"Cotorro\",\"Arroyo N.\",\"San Miguel\",\"Marianao\",\"Regla\",\"Lisa\"]\n",
    "temp = asd.Usuarios_Fb_Ig_Municip(univ)\n",
    "facebook = []\n",
    "instagram = []\n",
    "\n",
    "for diccionario in temp:\n",
    "        for claves, valor in diccionario.items():\n",
    "            suma0 = sum(tupla[0] for tupla in valor)\n",
    "            suma1 = sum(tupla[1] for tupla in valor)\n",
    "            facebook.append(suma0)\n",
    "            instagram.append(suma1)\n",
    "    \n",
    "\n",
    "width = 0.30\n",
    "x = range(len(municipios))\n",
    "fig, eso = plt.subplots()\n",
    "\n",
    "eso.bar([i - width/2 for i in x], facebook, width, label='Facebook', color='#721121')\n",
    "eso.bar([i + width/2 for i in x], instagram, width, label='Instagram', color='#DE834D')\n",
    "eso.set_xlabel('Municipios')\n",
    "eso.set_ylabel('Cantidad de Cuentas')\n",
    "eso.set_xticks(x)\n",
    "eso.set_xticklabels(municipios, rotation=90, fontsize=7)\n",
    "eso.set_title('Cantidad de Cuentas de Facebook e Instagram por Municipio')\n",
    "eso.legend()\n",
    "plt.show()"
   ]
  },
  {
   "cell_type": "code",
   "execution_count": null,
   "metadata": {},
   "outputs": [],
   "source": []
  },
  {
   "cell_type": "markdown",
   "metadata": {},
   "source": [
    "para el prox analisis vamos a ver en la habana del total de locales cuantos tienen facebook y/o instagram y tambien un numero de telefono\n",
    "\n",
    "y tambien despues uno sobre los servicio q ofrece los restaurante\n",
    "y para terminar, la proporcio de platos q son pollo, los q son del mar y los q son res"
   ]
  }
 ],
 "metadata": {
  "kernelspec": {
   "display_name": "Python 3",
   "language": "python",
   "name": "python3"
  },
  "language_info": {
   "codemirror_mode": {
    "name": "ipython",
    "version": 3
   },
   "file_extension": ".py",
   "mimetype": "text/x-python",
   "name": "python",
   "nbconvert_exporter": "python",
   "pygments_lexer": "ipython3",
   "version": "3.12.7"
  }
 },
 "nbformat": 4,
 "nbformat_minor": 2
}
