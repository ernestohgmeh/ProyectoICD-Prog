{
 "cells": [
  {
   "cell_type": "markdown",
   "metadata": {},
   "source": [
    "#### La Habana, capital de nuestro país, cuenta con aproximadamente 2.1 millones de personas según la información en el Anuario Estadístico del  2022; esta población se divide en 15 municipios, cada uno con diferentes características, y surgió la duda de si a pesar de estas diferencias entre ellos un restaurante en el céntrico Vedado(perteneciente al municipio Plaza de la Revolución) podría llegar a tener los mismos precios que uno ubicado en el municipio de Guanabacoa.\n",
    "\n",
    "#### Así fue como comenzó la labor para responder esta interrogante dando inicio a la recopilación de datos, proceso extenuante y el más molesto de toda la tarea. Para obtener la información necesaria nos apoyamos en canales de Telegram como \"Menú Cuba\" o algunas de las muchas opciones que podemos encontrar con una búsqueda en Google. Pero para obtener las más recientes y exactas propuestas, se le dió vital importancia a visitar personalmente los restaurantes o bares de la capital o, como mìnimo, tratar de obtener dicha información de los dueños o trabajadores.\n",
    "\n",
    "#### Hubieron municipios que no supusieron ningún problema para hallar un número considerable de locales, en cambio, algunos otros fueron una tarea bastante complicada debido al remota ubicación del local. Esto se podrá visualizar mejor en la gráfica a continuación, junto con algunas de las bibliotecas usadas en la realización de este análisis.\n",
    "\n",
    " - Anuario Estadístico: https://www.onei.gob.cu/sites/default/files/publicaciones/2024-04/03-poblacion-aec-2022_0.pdf \n",
    " - Menu Cuba: https://t.me/menucuba"
   ]
  },
  {
   "cell_type": "code",
   "execution_count": 1,
   "metadata": {},
   "outputs": [
    {
     "data": {
      "text/plain": [
       "81"
      ]
     },
     "execution_count": 1,
     "metadata": {},
     "output_type": "execute_result"
    }
   ],
   "source": [
    "import sys\n",
    "import os\n",
    "sys.path.append(os.path.abspath('/home/ernesto/Proyectos/ProyectoCD-Prog/aux'))\n",
    "import asd\n",
    "\n",
    "univ = asd.Get_Fixed_Objets()\n",
    "len(univ)\n",
    "\n"
   ]
  },
  {
   "cell_type": "code",
   "execution_count": null,
   "metadata": {},
   "outputs": [],
   "source": [
    "import folium\n",
    "\n",
    "\n",
    "map = folium.Map(location = [23.09016184758467,-82.38173482772923],zoom_star = 3)\n",
    "for i in univ:\n",
    "    if not (type(i[\"location\"][\"GPS\"]) == None or i[\"location\"][\"GPS\"] == \"string/ latitud,longitud\"):\n",
    "        folium.Marker(location = i[\"location\"][\"GPS\"],popup = i[\"nameLocal\"]).add_to(map)\n",
    "map"
   ]
  },
  {
   "cell_type": "markdown",
   "metadata": {},
   "source": [
    "#### Existen muchos tipos de platos y bebidas pero para poder saber cual es el precio medio de una comida definimos que el consumo de una persona será el valor medio de un entrante, el valor medio de un plato fuerte, al igual que con un postre y 2 bebidas. Con estos valores podemos saber cual es el lugar más caro o mas barato para ir a comer, pero claro no es exactamente lo que queremos, nos interesa más saber que como se comportan estos precios en los municipios. Es importante recalcar que para calcular el valor medio de los platos se eliminan el 10% inferior y superior de una lista ordenada que los contiene para asi evitar ¨contaminar la muestra¨ "
   ]
  },
  {
   "cell_type": "code",
   "execution_count": 2,
   "metadata": {},
   "outputs": [
    {
     "ename": "ValueError",
     "evalue": "invalid literal for int() with base 10: 'int/precio del plato'",
     "output_type": "error",
     "traceback": [
      "\u001b[0;31m---------------------------------------------------------------------------\u001b[0m",
      "\u001b[0;31mValueError\u001b[0m                                Traceback (most recent call last)",
      "Cell \u001b[0;32mIn[2], line 3\u001b[0m\n\u001b[1;32m      1\u001b[0m \u001b[38;5;28;01mimport\u001b[39;00m \u001b[38;5;21;01mmatplotlib\u001b[39;00m\u001b[38;5;21;01m.\u001b[39;00m\u001b[38;5;21;01mpyplot\u001b[39;00m \u001b[38;5;28;01mas\u001b[39;00m \u001b[38;5;21;01mmplp\u001b[39;00m\n\u001b[0;32m----> 3\u001b[0m promediado \u001b[38;5;241m=\u001b[39m \u001b[43masd\u001b[49m\u001b[38;5;241;43m.\u001b[39;49m\u001b[43mPromedio_municipio\u001b[49m\u001b[43m(\u001b[49m\u001b[43muniv\u001b[49m\u001b[43m)\u001b[49m\n\u001b[1;32m      5\u001b[0m eje_x \u001b[38;5;241m=\u001b[39m []\n\u001b[1;32m      6\u001b[0m eje_y \u001b[38;5;241m=\u001b[39m []\n",
      "File \u001b[0;32m~/Proyectos/ProyectoCD-Prog/aux/asd.py:111\u001b[0m, in \u001b[0;36mPromedio_municipio\u001b[0;34m(lista)\u001b[0m\n\u001b[1;32m    109\u001b[0m \u001b[38;5;28;01melif\u001b[39;00m k[\u001b[38;5;124m\"\u001b[39m\u001b[38;5;124mmunicipality\u001b[39m\u001b[38;5;124m\"\u001b[39m]\u001b[38;5;241m.\u001b[39mlower() \u001b[38;5;241m==\u001b[39m \u001b[38;5;124m\"\u001b[39m\u001b[38;5;124mplaza de la revolucion\u001b[39m\u001b[38;5;124m\"\u001b[39m: salida[\u001b[38;5;241m3\u001b[39m][\u001b[38;5;124m\"\u001b[39m\u001b[38;5;124mPlaza\u001b[39m\u001b[38;5;124m\"\u001b[39m]\u001b[38;5;241m.\u001b[39mappend(Promedio_restaurant(k))\n\u001b[1;32m    110\u001b[0m \u001b[38;5;28;01melif\u001b[39;00m k[\u001b[38;5;124m\"\u001b[39m\u001b[38;5;124mmunicipality\u001b[39m\u001b[38;5;124m\"\u001b[39m]\u001b[38;5;241m.\u001b[39mlower() \u001b[38;5;241m==\u001b[39m \u001b[38;5;124m\"\u001b[39m\u001b[38;5;124mplaya\u001b[39m\u001b[38;5;124m\"\u001b[39m: salida[\u001b[38;5;241m4\u001b[39m][\u001b[38;5;124m\"\u001b[39m\u001b[38;5;124mPlaya\u001b[39m\u001b[38;5;124m\"\u001b[39m]\u001b[38;5;241m.\u001b[39mappend(Promedio_restaurant(k))\n\u001b[0;32m--> 111\u001b[0m \u001b[38;5;28;01melif\u001b[39;00m k[\u001b[38;5;124m\"\u001b[39m\u001b[38;5;124mmunicipality\u001b[39m\u001b[38;5;124m\"\u001b[39m]\u001b[38;5;241m.\u001b[39mlower() \u001b[38;5;241m==\u001b[39m \u001b[38;5;124m\"\u001b[39m\u001b[38;5;124mhabana del este\u001b[39m\u001b[38;5;124m\"\u001b[39m: salida[\u001b[38;5;241m5\u001b[39m][\u001b[38;5;124m\"\u001b[39m\u001b[38;5;124mEste\u001b[39m\u001b[38;5;124m\"\u001b[39m]\u001b[38;5;241m.\u001b[39mappend(\u001b[43mPromedio_restaurant\u001b[49m\u001b[43m(\u001b[49m\u001b[43mk\u001b[49m\u001b[43m)\u001b[49m)\n\u001b[1;32m    112\u001b[0m \u001b[38;5;28;01melif\u001b[39;00m k[\u001b[38;5;124m\"\u001b[39m\u001b[38;5;124mmunicipality\u001b[39m\u001b[38;5;124m\"\u001b[39m]\u001b[38;5;241m.\u001b[39mlower() \u001b[38;5;241m==\u001b[39m \u001b[38;5;124m\"\u001b[39m\u001b[38;5;124mguanabacoa\u001b[39m\u001b[38;5;124m\"\u001b[39m: salida[\u001b[38;5;241m6\u001b[39m][\u001b[38;5;124m\"\u001b[39m\u001b[38;5;124mGua\u001b[39m\u001b[38;5;124m\"\u001b[39m]\u001b[38;5;241m.\u001b[39mappend(Promedio_restaurant(k))\n\u001b[1;32m    113\u001b[0m \u001b[38;5;28;01melif\u001b[39;00m k[\u001b[38;5;124m\"\u001b[39m\u001b[38;5;124mmunicipality\u001b[39m\u001b[38;5;124m\"\u001b[39m]\u001b[38;5;241m.\u001b[39mlower() \u001b[38;5;241m==\u001b[39m \u001b[38;5;124m\"\u001b[39m\u001b[38;5;124m10 de octubre\u001b[39m\u001b[38;5;124m\"\u001b[39m: salida[\u001b[38;5;241m7\u001b[39m][\u001b[38;5;124m\"\u001b[39m\u001b[38;5;124mDiez\u001b[39m\u001b[38;5;124m\"\u001b[39m]\u001b[38;5;241m.\u001b[39mappend(Promedio_restaurant(k))\n",
      "File \u001b[0;32m~/Proyectos/ProyectoCD-Prog/aux/asd.py:93\u001b[0m, in \u001b[0;36mPromedio_restaurant\u001b[0;34m(dicc)\u001b[0m\n\u001b[1;32m     91\u001b[0m entrante \u001b[38;5;241m=\u001b[39m dicc[\u001b[38;5;124m\"\u001b[39m\u001b[38;5;124mmenu\u001b[39m\u001b[38;5;124m\"\u001b[39m][\u001b[38;5;124m\"\u001b[39m\u001b[38;5;124mentrantes\u001b[39m\u001b[38;5;124m\"\u001b[39m] \u001b[38;5;241m=\u001b[39m Promedio_recortado_seccion(dicc[\u001b[38;5;124m\"\u001b[39m\u001b[38;5;124mmenu\u001b[39m\u001b[38;5;124m\"\u001b[39m][\u001b[38;5;124m\"\u001b[39m\u001b[38;5;124mentrantes\u001b[39m\u001b[38;5;124m\"\u001b[39m])\n\u001b[1;32m     92\u001b[0m fuerte \u001b[38;5;241m=\u001b[39m dicc[\u001b[38;5;124m\"\u001b[39m\u001b[38;5;124mmenu\u001b[39m\u001b[38;5;124m\"\u001b[39m][\u001b[38;5;124m\"\u001b[39m\u001b[38;5;124mplatoFuerte\u001b[39m\u001b[38;5;124m\"\u001b[39m] \u001b[38;5;241m=\u001b[39m Promedio_recortado_seccion(dicc[\u001b[38;5;124m\"\u001b[39m\u001b[38;5;124mmenu\u001b[39m\u001b[38;5;124m\"\u001b[39m][\u001b[38;5;124m\"\u001b[39m\u001b[38;5;124mplatoFuerte\u001b[39m\u001b[38;5;124m\"\u001b[39m])\n\u001b[0;32m---> 93\u001b[0m postres \u001b[38;5;241m=\u001b[39m dicc[\u001b[38;5;124m\"\u001b[39m\u001b[38;5;124mmenu\u001b[39m\u001b[38;5;124m\"\u001b[39m][\u001b[38;5;124m\"\u001b[39m\u001b[38;5;124mpostre\u001b[39m\u001b[38;5;124m\"\u001b[39m] \u001b[38;5;241m=\u001b[39m \u001b[43mPromedio_recortado_seccion\u001b[49m\u001b[43m(\u001b[49m\u001b[43mdicc\u001b[49m\u001b[43m[\u001b[49m\u001b[38;5;124;43m\"\u001b[39;49m\u001b[38;5;124;43mmenu\u001b[39;49m\u001b[38;5;124;43m\"\u001b[39;49m\u001b[43m]\u001b[49m\u001b[43m[\u001b[49m\u001b[38;5;124;43m\"\u001b[39;49m\u001b[38;5;124;43mpostre\u001b[39;49m\u001b[38;5;124;43m\"\u001b[39;49m\u001b[43m]\u001b[49m\u001b[43m)\u001b[49m\n\u001b[1;32m     94\u001b[0m bebidas \u001b[38;5;241m=\u001b[39m dicc[\u001b[38;5;124m\"\u001b[39m\u001b[38;5;124mmenu\u001b[39m\u001b[38;5;124m\"\u001b[39m][\u001b[38;5;124m\"\u001b[39m\u001b[38;5;124mbebidas\u001b[39m\u001b[38;5;124m\"\u001b[39m] \u001b[38;5;241m=\u001b[39m Promedio_recortado_seccion(dicc[\u001b[38;5;124m\"\u001b[39m\u001b[38;5;124mmenu\u001b[39m\u001b[38;5;124m\"\u001b[39m][\u001b[38;5;124m\"\u001b[39m\u001b[38;5;124mbebidas\u001b[39m\u001b[38;5;124m\"\u001b[39m])\n\u001b[1;32m     96\u001b[0m \u001b[38;5;28;01mreturn\u001b[39;00m (entrante \u001b[38;5;241m+\u001b[39m fuerte \u001b[38;5;241m+\u001b[39m postres \u001b[38;5;241m+\u001b[39m bebidas\u001b[38;5;241m*\u001b[39m\u001b[38;5;241m2\u001b[39m) \u001b[38;5;241m/\u001b[39m \u001b[38;5;241m5\u001b[39m\n",
      "File \u001b[0;32m~/Proyectos/ProyectoCD-Prog/aux/asd.py:82\u001b[0m, in \u001b[0;36mPromedio_recortado_seccion\u001b[0;34m(lista)\u001b[0m\n\u001b[1;32m     80\u001b[0m output \u001b[38;5;241m=\u001b[39m \u001b[38;5;241m0\u001b[39m\n\u001b[1;32m     81\u001b[0m \u001b[38;5;28;01mfor\u001b[39;00m k \u001b[38;5;129;01min\u001b[39;00m lista:\n\u001b[0;32m---> 82\u001b[0m         output \u001b[38;5;241m+\u001b[39m\u001b[38;5;241m=\u001b[39m \u001b[38;5;28;43mint\u001b[39;49m\u001b[43m(\u001b[49m\u001b[43mk\u001b[49m\u001b[43m[\u001b[49m\u001b[38;5;124;43m\"\u001b[39;49m\u001b[38;5;124;43mfoodPrecio\u001b[39;49m\u001b[38;5;124;43m\"\u001b[39;49m\u001b[43m]\u001b[49m\u001b[43m)\u001b[49m\n\u001b[1;32m     83\u001b[0m output \u001b[38;5;241m/\u001b[39m\u001b[38;5;241m=\u001b[39m \u001b[38;5;28mlen\u001b[39m(lista)\n\u001b[1;32m     84\u001b[0m \u001b[38;5;28;01mreturn\u001b[39;00m output\n",
      "\u001b[0;31mValueError\u001b[0m: invalid literal for int() with base 10: 'int/precio del plato'"
     ]
    }
   ],
   "source": [
    "import matplotlib.pyplot as mplp\n",
    "\n",
    "promediado = asd.Promedio_municipio(univ)\n",
    "\n",
    "eje_x = []\n",
    "eje_y = []\n",
    "\n",
    "for element in promediado:\n",
    "    for key, value in element.items():\n",
    "        eje_x.append(key)\n",
    "        eje_y.append(value)\n",
    "        \n",
    "mplp.bar(eje_x, eje_y, color='#721121')\n",
    "mplp.xlabel(\"Municipios\")\n",
    "mplp.ylabel(\"Costo\")\n",
    "mplp.xticks(rotation=90, fontsize= 7)\n",
    "mplp.title(\"Gasto promedio por persona\")"
   ]
  }
 ],
 "metadata": {
  "kernelspec": {
   "display_name": "Python 3",
   "language": "python",
   "name": "python3"
  },
  "language_info": {
   "codemirror_mode": {
    "name": "ipython",
    "version": 3
   },
   "file_extension": ".py",
   "mimetype": "text/x-python",
   "name": "python",
   "nbconvert_exporter": "python",
   "pygments_lexer": "ipython3",
   "version": "3.12.7"
  }
 },
 "nbformat": 4,
 "nbformat_minor": 2
}
