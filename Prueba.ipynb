{
 "cells": [
  {
   "cell_type": "markdown",
   "metadata": {},
   "source": [
    "# Segunda Prueba de esa talla "
   ]
  },
  {
   "cell_type": "markdown",
   "metadata": {},
   "source": [
    "**negrita**"
   ]
  },
  {
   "cell_type": "markdown",
   "metadata": {},
   "source": [
    "```python\n",
    "def asd(cadena:str)->None:\n",
    "    pass\n",
    "```"
   ]
  },
  {
   "cell_type": "markdown",
   "metadata": {},
   "source": [
    "$$\n",
    "5 + 3 = (8)^1 - 0,1\n",
    "$$"
   ]
  },
  {
   "cell_type": "markdown",
   "metadata": {},
   "source": [
    "`print(Hello Coders)`"
   ]
  },
  {
   "cell_type": "markdown",
   "metadata": {},
   "source": [
    "*italic*"
   ]
  },
  {
   "cell_type": "markdown",
   "metadata": {},
   "source": [
    "~~asd~~"
   ]
  },
  {
   "cell_type": "markdown",
   "metadata": {},
   "source": [
    "[zxc](https://cubadebate.cu)"
   ]
  },
  {
   "cell_type": "markdown",
   "metadata": {},
   "source": [
    "![qwe](https://qweeq)"
   ]
  },
  {
   "cell_type": "markdown",
   "metadata": {},
   "source": [
    "###### qaz"
   ]
  },
  {
   "cell_type": "markdown",
   "metadata": {},
   "source": [
    "adasaasd"
   ]
  },
  {
   "cell_type": "markdown",
   "metadata": {},
   "source": [
    "# Codigo"
   ]
  },
  {
   "cell_type": "code",
   "execution_count": null,
   "metadata": {},
   "outputs": [],
   "source": [
    "print(\"Groovy\")"
   ]
  },
  {
   "cell_type": "code",
   "execution_count": null,
   "metadata": {},
   "outputs": [],
   "source": [
    "import sys\n",
    "import os\n",
    "import pandas\n",
    "\n",
    "#vicente dijo q esto no es importante\n",
    "\n",
    "sys.path.append(os.path.abspath('/home/ernesto/Proyectos/ProyectoCD-Prog/aux'))\n",
    "import asd\n",
    "\n",
    "#Des-anida la informacion dentro de \"info\"\n",
    "raw_files = asd.Load_Files()\n",
    "temp = []\n",
    "for k in raw_files:\n",
    "    cosa = {\"municipality\": k[\"municipality\"]}\n",
    "    cosa.update(k[\"info\"])\n",
    "    temp.append(cosa)\n",
    "    \n",
    "len(temp)\n"
   ]
  },
  {
   "cell_type": "code",
   "execution_count": null,
   "metadata": {},
   "outputs": [],
   "source": [
    "#grafico q muestre los precios de los productos de una misma clasif\n",
    "import matplotlib.pyplot as mplp\n",
    "\n",
    "graf_output = []\n",
    "\n",
    "for k in temp[0][\"menu\"][\"platoFuerte\"]:\n",
    "    if k[\"clasificacion\"].lower() == \"carne roja\": graf_output.append((k[\"foodName\"],k[\"foodPrecio\"])) #importante normalizar la clasf hasta q se arregle\n",
    "\n",
    "nombre_producto = []\n",
    "precio_producto = []\n",
    "for k in graf_output:\n",
    "    nombre_producto.append(k[0])\n",
    "    precio_producto.append(k[1])\n",
    "\n",
    "graf = mplp.bar(nombre_producto,precio_producto,color='#721121')\n",
    "mplp.xlabel('Nombre del Producto')\n",
    "mplp.ylabel('Precio')\n",
    "mplp.title('Precio de las carnes rojas del ' + temp[0][\"nameLocal\"])\n",
    "mplp.xticks(rotation=45, fontsize= 7)\n",
    "mplp.legend(\"oal\")\n",
    "mplp.show()\n",
    "\n"
   ]
  }
 ],
 "metadata": {
  "kernelspec": {
   "display_name": "Python 3",
   "language": "python",
   "name": "python3"
  },
  "language_info": {
   "codemirror_mode": {
    "name": "ipython",
    "version": 3
   },
   "file_extension": ".py",
   "mimetype": "text/x-python",
   "name": "python",
   "nbconvert_exporter": "python",
   "pygments_lexer": "ipython3",
   "version": "3.12.6"
  }
 },
 "nbformat": 4,
 "nbformat_minor": 2
}
